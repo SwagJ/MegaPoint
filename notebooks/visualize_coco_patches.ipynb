{
 "cells": [
  {
   "cell_type": "code",
   "execution_count": 1,
   "metadata": {},
   "outputs": [
    {
     "output_type": "stream",
     "name": "stdout",
     "text": "/media/terabyte/projects/SUPERPOINT/SuperPointIoannis/notebooks\n"
    }
   ],
   "source": [
    "import cv2\n",
    "import numpy as np\n",
    "import os,sys\n",
    "sys.path.append(os.path.join(os.getcwd(), \"..\"))\n",
    "import tensorflow as tf\n",
    "tf.compat.v1.disable_eager_execution()\n",
    "from superpoint.datasets.patches_dataset import PatchesDataset\n",
    "from utils import plot_imgs\n",
    "\n",
    "\n",
    "%load_ext autoreload\n",
    "%autoreload 2\n",
    "%matplotlib inline"
   ]
  },
  {
   "cell_type": "code",
   "execution_count": 2,
   "metadata": {
    "scrolled": false
   },
   "outputs": [],
   "source": [
    "config = {'dataset': 'coco', 'truncate': 50, 'preprocessing': {'resize': False}}\n",
    "dataset = PatchesDataset(**config)\n",
    "data = dataset.get_test_set()"
   ]
  },
  {
   "cell_type": "code",
   "execution_count": 3,
   "metadata": {
    "scrolled": false
   },
   "outputs": [
    {
     "output_type": "error",
     "ename": "SyntaxError",
     "evalue": "invalid syntax (<ipython-input-3-5a3b443d49c1>, line 3)",
     "traceback": [
      "\u001b[0;36m  File \u001b[0;32m\"<ipython-input-3-5a3b443d49c1>\"\u001b[0;36m, line \u001b[0;32m3\u001b[0m\n\u001b[0;31m    image = np.concatenate([d['image'], d['image'], d['image']], axis=2).\u001b[0m\n\u001b[0m                                                                         ^\u001b[0m\n\u001b[0;31mSyntaxError\u001b[0m\u001b[0;31m:\u001b[0m invalid syntax\n"
     ]
    }
   ],
   "source": [
    "for i in range(10):\n",
    "    d = next(data)\n",
    "    image = np.concatenate([d['image'], d['image'], d['image']], axis=2)\n",
    "    warped_image = np.concatenate([d['warped_image'], d['warped_image'], d['warped_image']], axis=2)\n",
    "    plot_imgs([image, warped_image], titles=['original', 'patch'], dpi=200, cmap='gray')"
   ]
  },
  {
   "cell_type": "code",
   "execution_count": null,
   "metadata": {},
   "outputs": [],
   "source": []
  }
 ],
 "metadata": {
  "kernelspec": {
   "display_name": "AIenv3",
   "language": "python",
   "name": "aienv3"
  },
  "language_info": {
   "codemirror_mode": {
    "name": "ipython",
    "version": 3
   },
   "file_extension": ".py",
   "mimetype": "text/x-python",
   "name": "python",
   "nbconvert_exporter": "python",
   "pygments_lexer": "ipython3",
   "version": "3.6.9-final"
  }
 },
 "nbformat": 4,
 "nbformat_minor": 2
}
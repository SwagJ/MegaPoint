{
 "cells": [
  {
   "cell_type": "code",
   "execution_count": null,
   "metadata": {},
   "outputs": [],
   "source": [
    "import cv2\n",
    "import numpy as np\n",
    "import matplotlib.pyplot as plt\n",
    "import tensorflow as tf\n",
    "tf.compat.v1.disable_eager_execution()\n",
    "\n",
    "import os,sys\n",
    "sys.path.append(os.path.join(os.getcwd(), \"..\"))\n",
    "\n",
    "from superpoint.settings import EXPER_PATH\n",
    "import superpoint.evaluations.detector_evaluation as ev\n",
    "from utils import plot_imgs\n",
    "\n",
    "%matplotlib inline\n",
    "%load_ext autoreload\n",
    "%autoreload 2"
   ]
  },
  {
   "cell_type": "code",
   "execution_count": null,
   "metadata": {},
   "outputs": [],
   "source": [
    "experiments = [\n",
    "    'mp_synth-v6_no-aug_synth', 'mp_synth-v6_no-aug_synth-noise',\n",
    "    'mp_synth-v6_photo-aug_synth', 'mp_synth-v6_photo-aug_synth-noise',\n",
    "    'harris_synth-v6', 'harris_synth-v6-noise',\n",
    "    'shi_synth-v6', 'shi_synth-v6-noise',\n",
    "    'fast_synth-v6', 'fast_synth-v6-noise',\n",
    "]\n",
    "confidence_thresholds = [0.1]*4 + [90000]*2 + [0.06]*2 + [40]*2"
   ]
  },
  {
   "cell_type": "markdown",
   "metadata": {},
   "source": [
    "# PR curve"
   ],
   "execution_count": null,
   "outputs": []
  },
  {
   "cell_type": "code",
   "execution_count": null,
   "metadata": {},
   "outputs": [],
   "source": [
    "plt.figure(dpi=150)\n",
    "for e, t in zip(experiments, confidence_thresholds):\n",
    "    p, r, prob = ev.compute_pr(e, distance_thresh=4)\n",
    "    plt.plot(r, p, label=e)\n",
    "    \n",
    "    mAP = ev.compute_mAP(p, r)\n",
    "    print('> {}'.format(e))\n",
    "    print('mAP: {}'.format(mAP))\n",
    "    \n",
    "    op_idx = np.max(np.where(prob > t))\n",
    "    plt.plot(r[op_idx], p[op_idx], marker='o', color='k', markersize=3)\n",
    "    \n",
    "plt.legend(), plt.xlabel('Recall'), plt.ylabel('Precision')"
   ]
  },
  {
   "cell_type": "markdown",
   "metadata": {},
   "source": [
    "# Localization Error"
   ],
   "execution_count": null,
   "outputs": []
  },
  {
   "cell_type": "code",
   "execution_count": null,
   "metadata": {},
   "outputs": [],
   "source": [
    "for e, t in zip(experiments, confidence_thresholds):\n",
    "    error = ev.compute_loc_error(e, prob_thresh=t, distance_thresh=4)\n",
    "    print('> {}: {}'.format(e, error))"
   ]
  },
  {
   "cell_type": "markdown",
   "metadata": {},
   "source": [
    "# Visualization"
   ],
   "execution_count": null,
   "outputs": []
  },
  {
   "cell_type": "code",
   "execution_count": null,
   "metadata": {},
   "outputs": [],
   "source": [
    "def draw_keypoints(img, corners, color):\n",
    "    keypoints = [cv2.KeyPoint(c[1], c[0], 1) for c in np.stack(corners).T]\n",
    "    return cv2.drawKeypoints(img.astype(np.uint8), keypoints, None, color=color)"
   ]
  },
  {
   "cell_type": "code",
   "execution_count": null,
   "metadata": {
    "scrolled": false
   },
   "outputs": [],
   "source": [
    "paths = [ev.get_paths(e) for e in experiments]\n",
    "for i in range(15):\n",
    "    images = []\n",
    "    for j, (e, t) in enumerate(zip(experiments, confidence_thresholds)):\n",
    "        data = np.load(paths[j][i])\n",
    "        if e == experiments[0]:\n",
    "            images.append(draw_keypoints(data['image'], np.where(data['keypoint_map']), (0, 255, 0)))\n",
    "        images.append(draw_keypoints(data['image'], np.where(data['prob_nms'] > t), (0, 255, 0)))\n",
    "    plot_imgs([im/255. for im in images], titles=['ground truth']+experiments)"
   ]
  }
 ],
 "metadata": {
  "kernelspec": {
   "display_name": "AIenv3",
   "language": "python",
   "name": "aienv3"
  },
  "language_info": {
   "codemirror_mode": {
    "name": "ipython",
    "version": 3
   },
   "file_extension": ".py",
   "mimetype": "text/x-python",
   "name": "python",
   "nbconvert_exporter": "python",
   "pygments_lexer": "ipython3",
   "version": "3.6.9-final"
  }
 },
 "nbformat": 4,
 "nbformat_minor": 2
}